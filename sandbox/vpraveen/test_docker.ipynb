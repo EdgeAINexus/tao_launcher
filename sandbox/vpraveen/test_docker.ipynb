{
 "metadata": {
  "language_info": {
   "codemirror_mode": {
    "name": "ipython",
    "version": 3
   },
   "file_extension": ".py",
   "mimetype": "text/x-python",
   "name": "python",
   "nbconvert_exporter": "python",
   "pygments_lexer": "ipython3",
   "version": "3.6.9-final"
  },
  "orig_nbformat": 2,
  "kernelspec": {
   "name": "Python 3.6.9 64-bit ('tlt_launcher': venv)",
   "display_name": "Python 3.6.9 64-bit ('tlt_launcher': venv)",
   "metadata": {
    "interpreter": {
     "hash": "d053ef42989f3dd29d81824a6f213571f36a7fb4ff98f8fadc1231ccc5aa8aeb"
    }
   }
  }
 },
 "nbformat": 4,
 "nbformat_minor": 2,
 "cells": [
  {
   "cell_type": "code",
   "execution_count": 1,
   "metadata": {},
   "outputs": [
    {
     "output_type": "stream",
     "name": "stdout",
     "text": [
      "/home/vpraveen/.virtualenvs/tlt_launcher/bin/python\n"
     ]
    }
   ],
   "source": [
    "# Jupyter notebook to test docker python SDK\n",
    "!which python"
   ]
  },
  {
   "cell_type": "code",
   "execution_count": 2,
   "metadata": {},
   "outputs": [],
   "source": [
    "import os\n",
    "import sys\n",
    "\n",
    "import docker\n",
    "import requests\n",
    "\n",
    "docker_client = docker.from_env()\n",
    "required_digest = \"sha256:0043e8f4221be7229919c2d2b9ba7d14a4a3a156642476440147253bb74ab5a5\""
   ]
  },
  {
   "cell_type": "code",
   "execution_count": 3,
   "metadata": {
    "tags": []
   },
   "outputs": [],
   "source": [
    "# Working with containers.\n",
    "container_list = docker_client.containers.list()\n",
    "api_client = docker.APIClient(base_url=\"unix://var/run/docker.sock\")\n",
    "# container = container_list[0]\n",
    "# inspection_content = api_client.inspect_container(container.attrs[\"Id\"])\n"
   ]
  },
  {
   "cell_type": "code",
   "execution_count": 4,
   "metadata": {},
   "outputs": [],
   "source": [
    "def check_if_image_exists(image_list):\n",
    "    assert isinstance(image_list, list), (\n",
    "        \"image_list should be a list.\"\n",
    "    )\n",
    "    for image in image_list:\n",
    "        image_inspection_content = api_client.inspect_image(image.attrs[\"Id\"])\n",
    "        if image_inspection_content[\"RepoDigests\"]:\n",
    "            image_digest = image_inspection_content[\"RepoDigests\"][0].split(\"@\")[1]\n",
    "            if image_digest == required_digest:\n",
    "                return True\n",
    "    return False"
   ]
  },
  {
   "cell_type": "code",
   "execution_count": 5,
   "metadata": {
    "tags": []
   },
   "outputs": [],
   "source": [
    "# Working with images.\n",
    "image_list = docker_client.images.list()\n",
    "found = check_if_image_exists(image_list)\n",
    "if not found:\n",
    "    print(\"Pulling container\")\n",
    "    try:\n",
    "        api_client.pull(repository=\"stg.nvcr.io/nvidia/tlt-streamanalytics\", tag=\"v3.0.0ga-dev\")\n",
    "    except requests.exceptions.HTTPError:\n",
    "        raise IOError(\"Docker not found.\")\n",
    "    except docker.errors.APIError:\n",
    "        raise ValueError(\"Docker pull failed.\")\n",
    "    print(\"Container pull complete.\")"
   ]
  },
  {
   "cell_type": "code",
   "execution_count": null,
   "metadata": {},
   "outputs": [],
   "source": [
    "# Update the list of dockers after the pull and check if it exists.\n",
    "image_list = docker_client.images.list()\n",
    "found = check_if_image_exists(image_list)\n",
    "print(found)"
   ]
  },
  {
   "cell_type": "code",
   "execution_count": 13,
   "metadata": {
    "tags": []
   },
   "outputs": [
    {
     "output_type": "stream",
     "name": "stdout",
     "text": [
      "Instantiate the container.\n",
      "Running the container command.\n"
     ]
    },
    {
     "output_type": "error",
     "ename": "UnsupportedOperation",
     "evalue": "fileno",
     "traceback": [
      "\u001b[0;31m---------------------------------------------------------------------------\u001b[0m",
      "\u001b[0;31mUnsupportedOperation\u001b[0m                      Traceback (most recent call last)",
      "\u001b[0;32m<ipython-input-13-afd34613f8e0>\u001b[0m in \u001b[0;36m<module>\u001b[0;34m\u001b[0m\n\u001b[1;32m     29\u001b[0m \u001b[0;32mif\u001b[0m \u001b[0mtype\u001b[0m\u001b[0;34m(\u001b[0m\u001b[0mcontainer\u001b[0m\u001b[0;34m)\u001b[0m \u001b[0;34m==\u001b[0m \u001b[0mdocker\u001b[0m\u001b[0;34m.\u001b[0m\u001b[0mmodels\u001b[0m\u001b[0;34m.\u001b[0m\u001b[0mcontainers\u001b[0m\u001b[0;34m.\u001b[0m\u001b[0mContainer\u001b[0m\u001b[0;34m:\u001b[0m\u001b[0;34m\u001b[0m\u001b[0;34m\u001b[0m\u001b[0m\n\u001b[1;32m     30\u001b[0m     \u001b[0mprint\u001b[0m\u001b[0;34m(\u001b[0m\u001b[0;34m\"Running the container command.\"\u001b[0m\u001b[0;34m)\u001b[0m\u001b[0;34m\u001b[0m\u001b[0;34m\u001b[0m\u001b[0m\n\u001b[0;32m---> 31\u001b[0;31m     \u001b[0mrc\u001b[0m \u001b[0;34m=\u001b[0m \u001b[0msubprocess\u001b[0m\u001b[0;34m.\u001b[0m\u001b[0mcall\u001b[0m\u001b[0;34m(\u001b[0m\u001b[0;34m'docker exec -it {} \"{}\"'\u001b[0m\u001b[0;34m.\u001b[0m\u001b[0mformat\u001b[0m\u001b[0;34m(\u001b[0m\u001b[0mcontainer\u001b[0m\u001b[0;34m.\u001b[0m\u001b[0mid\u001b[0m\u001b[0;34m,\u001b[0m \u001b[0mcommand\u001b[0m\u001b[0;34m)\u001b[0m\u001b[0;34m,\u001b[0m \u001b[0mshell\u001b[0m\u001b[0;34m=\u001b[0m\u001b[0;32mTrue\u001b[0m\u001b[0;34m,\u001b[0m \u001b[0mstdout\u001b[0m\u001b[0;34m=\u001b[0m\u001b[0msys\u001b[0m\u001b[0;34m.\u001b[0m\u001b[0mstdout\u001b[0m\u001b[0;34m)\u001b[0m\u001b[0;34m\u001b[0m\u001b[0;34m\u001b[0m\u001b[0m\n\u001b[0m\u001b[1;32m     32\u001b[0m     \u001b[0;31m# exit_code, output_log = container.exec_run(command, detach=False, stream=False)\u001b[0m\u001b[0;34m\u001b[0m\u001b[0;34m\u001b[0m\u001b[0;34m\u001b[0m\u001b[0m\n\u001b[1;32m     33\u001b[0m     \u001b[0;31m# for line in output_log:\u001b[0m\u001b[0;34m\u001b[0m\u001b[0;34m\u001b[0m\u001b[0;34m\u001b[0m\u001b[0m\n",
      "\u001b[0;32m/usr/lib/python3.6/subprocess.py\u001b[0m in \u001b[0;36mcall\u001b[0;34m(timeout, *popenargs, **kwargs)\u001b[0m\n\u001b[1;32m    285\u001b[0m     \u001b[0mretcode\u001b[0m \u001b[0;34m=\u001b[0m \u001b[0mcall\u001b[0m\u001b[0;34m(\u001b[0m\u001b[0;34m[\u001b[0m\u001b[0;34m\"ls\"\u001b[0m\u001b[0;34m,\u001b[0m \u001b[0;34m\"-l\"\u001b[0m\u001b[0;34m]\u001b[0m\u001b[0;34m)\u001b[0m\u001b[0;34m\u001b[0m\u001b[0;34m\u001b[0m\u001b[0m\n\u001b[1;32m    286\u001b[0m     \"\"\"\n\u001b[0;32m--> 287\u001b[0;31m     \u001b[0;32mwith\u001b[0m \u001b[0mPopen\u001b[0m\u001b[0;34m(\u001b[0m\u001b[0;34m*\u001b[0m\u001b[0mpopenargs\u001b[0m\u001b[0;34m,\u001b[0m \u001b[0;34m**\u001b[0m\u001b[0mkwargs\u001b[0m\u001b[0;34m)\u001b[0m \u001b[0;32mas\u001b[0m \u001b[0mp\u001b[0m\u001b[0;34m:\u001b[0m\u001b[0;34m\u001b[0m\u001b[0;34m\u001b[0m\u001b[0m\n\u001b[0m\u001b[1;32m    288\u001b[0m         \u001b[0;32mtry\u001b[0m\u001b[0;34m:\u001b[0m\u001b[0;34m\u001b[0m\u001b[0;34m\u001b[0m\u001b[0m\n\u001b[1;32m    289\u001b[0m             \u001b[0;32mreturn\u001b[0m \u001b[0mp\u001b[0m\u001b[0;34m.\u001b[0m\u001b[0mwait\u001b[0m\u001b[0;34m(\u001b[0m\u001b[0mtimeout\u001b[0m\u001b[0;34m=\u001b[0m\u001b[0mtimeout\u001b[0m\u001b[0;34m)\u001b[0m\u001b[0;34m\u001b[0m\u001b[0;34m\u001b[0m\u001b[0m\n",
      "\u001b[0;32m/usr/lib/python3.6/subprocess.py\u001b[0m in \u001b[0;36m__init__\u001b[0;34m(self, args, bufsize, executable, stdin, stdout, stderr, preexec_fn, close_fds, shell, cwd, env, universal_newlines, startupinfo, creationflags, restore_signals, start_new_session, pass_fds, encoding, errors)\u001b[0m\n\u001b[1;32m    685\u001b[0m         (p2cread, p2cwrite,\n\u001b[1;32m    686\u001b[0m          \u001b[0mc2pread\u001b[0m\u001b[0;34m,\u001b[0m \u001b[0mc2pwrite\u001b[0m\u001b[0;34m,\u001b[0m\u001b[0;34m\u001b[0m\u001b[0;34m\u001b[0m\u001b[0m\n\u001b[0;32m--> 687\u001b[0;31m          errread, errwrite) = self._get_handles(stdin, stdout, stderr)\n\u001b[0m\u001b[1;32m    688\u001b[0m \u001b[0;34m\u001b[0m\u001b[0m\n\u001b[1;32m    689\u001b[0m         \u001b[0;31m# We wrap OS handles *before* launching the child, otherwise a\u001b[0m\u001b[0;34m\u001b[0m\u001b[0;34m\u001b[0m\u001b[0;34m\u001b[0m\u001b[0m\n",
      "\u001b[0;32m/usr/lib/python3.6/subprocess.py\u001b[0m in \u001b[0;36m_get_handles\u001b[0;34m(self, stdin, stdout, stderr)\u001b[0m\n\u001b[1;32m   1202\u001b[0m             \u001b[0;32melse\u001b[0m\u001b[0;34m:\u001b[0m\u001b[0;34m\u001b[0m\u001b[0;34m\u001b[0m\u001b[0m\n\u001b[1;32m   1203\u001b[0m                 \u001b[0;31m# Assuming file-like object\u001b[0m\u001b[0;34m\u001b[0m\u001b[0;34m\u001b[0m\u001b[0;34m\u001b[0m\u001b[0m\n\u001b[0;32m-> 1204\u001b[0;31m                 \u001b[0mc2pwrite\u001b[0m \u001b[0;34m=\u001b[0m \u001b[0mstdout\u001b[0m\u001b[0;34m.\u001b[0m\u001b[0mfileno\u001b[0m\u001b[0;34m(\u001b[0m\u001b[0;34m)\u001b[0m\u001b[0;34m\u001b[0m\u001b[0;34m\u001b[0m\u001b[0m\n\u001b[0m\u001b[1;32m   1205\u001b[0m \u001b[0;34m\u001b[0m\u001b[0m\n\u001b[1;32m   1206\u001b[0m             \u001b[0;32mif\u001b[0m \u001b[0mstderr\u001b[0m \u001b[0;32mis\u001b[0m \u001b[0;32mNone\u001b[0m\u001b[0;34m:\u001b[0m\u001b[0;34m\u001b[0m\u001b[0;34m\u001b[0m\u001b[0m\n",
      "\u001b[0;31mUnsupportedOperation\u001b[0m: fileno"
     ]
    }
   ],
   "source": [
    "# Instantiate the downloaded container.\n",
    "import subprocess\n",
    "import sys\n",
    "device_requests = docker.types.DeviceRequest(count=-1, capabilities=[[\"gpu\"]])\n",
    "volumes = {\n",
    "    \"/home/vpraveen\": {\n",
    "        \"bind\": \"/workspace/vpraveen\",\n",
    "        \"mode\": \"rw\"\n",
    "    },\n",
    "    \"/home/scratch.metropolis2/users/vpraveen/scratch_space/kitti-experiments\": {\n",
    "        \"bind\": \"/workspace/tlt-experiments\",\n",
    "        \"mode\": \"rw\"\n",
    "    }\n",
    "}\n",
    "experiment_spec_path = \"/workspace/examples/detectnet_v2/specs/detectnet_v2_train_resnet18_kitti.txt\"\n",
    "results_dir = \"/workspace/tlt-experiments/detectnet_v2/run_training_from_dockerpy\"\n",
    "command = \"detectnet_v2 train -e {} -r {} -k tlt_encode --gpus 1\".format(\n",
    "    experiment_spec_path, results_dir\n",
    ")\n",
    "print(\"Instantiate the container.\")\n",
    "container = docker_client.containers.create(\n",
    "    \"stg.nvcr.io/nvidia/tlt-streamanalytics@{}\".format(required_digest),\n",
    "    device_requests=[device_requests],\n",
    "    tty=True,\n",
    "    detach=True,\n",
    "    volumes=volumes\n",
    ")\n",
    "container.start()\n",
    "docker_command = 'docker exec -it {} \"{}\"'.format(container.id, command)\n",
    "print(\"The docker command: {}\".format(docker_command))\n",
    "if type(container) == docker.models.containers.Container:\n",
    "    print(\"Running the container command.\")\n",
    "    # rc = subprocess.call(docker_command, shell=True, stdout=sys.stdout)\n",
    "    # exit_code, output_log = container.exec_run(command, detach=False, stream=False)\n",
    "    # for line in output_log:\n",
    "    #     print(line)\n",
    "    # print(\"Output_log: {}\".format(output_log))\n",
    "\n",
    "    print(\"Stopping container.\")\n",
    "    # container.stop()"
   ]
  },
  {
   "cell_type": "code",
   "execution_count": 33,
   "metadata": {},
   "outputs": [
    {
     "output_type": "error",
     "ename": "UnicodeDecodeError",
     "evalue": "'utf-8' codec can't decode byte 0x98 in position 0: invalid start byte",
     "traceback": [
      "\u001b[0;31m---------------------------------------------------------------------------\u001b[0m",
      "\u001b[0;31mUnicodeDecodeError\u001b[0m                        Traceback (most recent call last)",
      "\u001b[0;32m<ipython-input-33-11b62ca2dfb3>\u001b[0m in \u001b[0;36m<module>\u001b[0;34m\u001b[0m\n\u001b[1;32m      1\u001b[0m \u001b[0;31m# print(output_log.decode())\u001b[0m\u001b[0;34m\u001b[0m\u001b[0;34m\u001b[0m\u001b[0;34m\u001b[0m\u001b[0m\n\u001b[1;32m      2\u001b[0m \u001b[0;32mfor\u001b[0m \u001b[0mline\u001b[0m \u001b[0;32min\u001b[0m \u001b[0moutput_log\u001b[0m\u001b[0;34m:\u001b[0m\u001b[0;34m\u001b[0m\u001b[0;34m\u001b[0m\u001b[0m\n\u001b[0;32m----> 3\u001b[0;31m     \u001b[0mprint\u001b[0m\u001b[0;34m(\u001b[0m\u001b[0mline\u001b[0m\u001b[0;34m.\u001b[0m\u001b[0mdecode\u001b[0m\u001b[0;34m(\u001b[0m\u001b[0;34m)\u001b[0m\u001b[0;34m)\u001b[0m\u001b[0;34m\u001b[0m\u001b[0;34m\u001b[0m\u001b[0m\n\u001b[0m",
      "\u001b[0;31mUnicodeDecodeError\u001b[0m: 'utf-8' codec can't decode byte 0x98 in position 0: invalid start byte"
     ]
    }
   ],
   "source": [
    "# print(output_log.decode())\n",
    "for line in output_log:\n",
    "    print(line.decode())"
   ]
  },
  {
   "cell_type": "code",
   "execution_count": null,
   "metadata": {
    "tags": []
   },
   "outputs": [],
   "source": [
    "import subprocess\n",
    "import sys\n",
    "# try:\n",
    "#     subprocess.call(\n",
    "#         \"docker run -rm --detach stg.nvcr.io/nvidia/tlt-streamanalytics@{} /bin/bash\".format(required_digest),\n",
    "#         stdout=sys.stdout,\n",
    "#         shell=True)\n",
    "# except subprocess.CalledProcessError:\n",
    "#     raise IOError(\"Couldn't run the docker.\")\n",
    "try:\n",
    "    subprocess.call(\n",
    "        \"docker run -d --rm -t --gpus 2 stg.nvcr.io/nvidia/tlt-streamanalytics:v3.0.0ga-dev\",\n",
    "        shell=True      \n",
    "    )\n",
    "except subprocess.CalledProcessError:\n",
    "    raise IOError(\"Couldn't run the docker.\")\n",
    "# ! docker run --rm --gpus all stg.nvcr.io/nvidia/tlt-streamanalytics:v3.0.0ga-dev 'detectnet_v2 train --help'\n",
    "!docker ps"
   ]
  },
  {
   "cell_type": "code",
   "execution_count": null,
   "metadata": {
    "tags": []
   },
   "outputs": [],
   "source": [
    "!docker container inspect a1bffdbb216f"
   ]
  },
  {
   "cell_type": "code",
   "execution_count": null,
   "metadata": {},
   "outputs": [],
   "source": [
    "api_client.inspect_container(\"a1bffdbb216f\")"
   ]
  },
  {
   "cell_type": "code",
   "execution_count": 11,
   "metadata": {},
   "outputs": [],
   "source": [
    "container = docker_client.containers.get(\"ef825950b653\")\n",
    "container.stop()"
   ]
  },
  {
   "cell_type": "code",
   "execution_count": null,
   "metadata": {},
   "outputs": [],
   "source": [
    "!docker ps"
   ]
  },
  {
   "cell_type": "code",
   "execution_count": null,
   "metadata": {},
   "outputs": [],
   "source": []
  }
 ]
}